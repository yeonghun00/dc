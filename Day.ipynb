{
  "nbformat": 4,
  "nbformat_minor": 0,
  "metadata": {
    "colab": {
      "name": "Day.ipynb",
      "provenance": [],
      "collapsed_sections": [],
      "authorship_tag": "ABX9TyN2VqEORXv6COyFaZFQLzba",
      "include_colab_link": true
    },
    "kernelspec": {
      "name": "python3",
      "display_name": "Python 3"
    }
  },
  "cells": [
    {
      "cell_type": "markdown",
      "metadata": {
        "id": "view-in-github",
        "colab_type": "text"
      },
      "source": [
        "<a href=\"https://colab.research.google.com/github/yeonghun00/dc/blob/main/Day.ipynb\" target=\"_parent\"><img src=\"https://colab.research.google.com/assets/colab-badge.svg\" alt=\"Open In Colab\"/></a>"
      ]
    },
    {
      "cell_type": "code",
      "metadata": {
        "id": "FUvD1qSOjOd1"
      },
      "source": [
        "import pandas as pd\n",
        "import numpy as np"
      ],
      "execution_count": 1,
      "outputs": []
    },
    {
      "cell_type": "code",
      "metadata": {
        "id": "pWxPndd-jf68"
      },
      "source": [
        "import pandas_datareader.data as web\n",
        "import datetime"
      ],
      "execution_count": 2,
      "outputs": []
    },
    {
      "cell_type": "code",
      "metadata": {
        "id": "JP3n90_LjiX4"
      },
      "source": [
        "start = datetime.datetime(2000,1,1)\n",
        "end = datetime.datetime(2021,1,26)"
      ],
      "execution_count": 3,
      "outputs": []
    },
    {
      "cell_type": "code",
      "metadata": {
        "colab": {
          "base_uri": "https://localhost:8080/",
          "height": 450
        },
        "id": "Bc_EcBhejjlW",
        "outputId": "0c41554b-a493-4863-ce45-7473deb129ec"
      },
      "source": [
        "# Read Stock\n",
        "code_name = '^KQ11'\n",
        "df = web.DataReader(code_name, \"yahoo\", start, end)\n",
        "df"
      ],
      "execution_count": 4,
      "outputs": [
        {
          "output_type": "execute_result",
          "data": {
            "text/html": [
              "<div>\n",
              "<style scoped>\n",
              "    .dataframe tbody tr th:only-of-type {\n",
              "        vertical-align: middle;\n",
              "    }\n",
              "\n",
              "    .dataframe tbody tr th {\n",
              "        vertical-align: top;\n",
              "    }\n",
              "\n",
              "    .dataframe thead th {\n",
              "        text-align: right;\n",
              "    }\n",
              "</style>\n",
              "<table border=\"1\" class=\"dataframe\">\n",
              "  <thead>\n",
              "    <tr style=\"text-align: right;\">\n",
              "      <th></th>\n",
              "      <th>High</th>\n",
              "      <th>Low</th>\n",
              "      <th>Open</th>\n",
              "      <th>Close</th>\n",
              "      <th>Volume</th>\n",
              "      <th>Adj Close</th>\n",
              "    </tr>\n",
              "    <tr>\n",
              "      <th>Date</th>\n",
              "      <th></th>\n",
              "      <th></th>\n",
              "      <th></th>\n",
              "      <th></th>\n",
              "      <th></th>\n",
              "      <th></th>\n",
              "    </tr>\n",
              "  </thead>\n",
              "  <tbody>\n",
              "    <tr>\n",
              "      <th>2013-03-04</th>\n",
              "      <td>539.849976</td>\n",
              "      <td>537.359985</td>\n",
              "      <td>538.520020</td>\n",
              "      <td>537.380005</td>\n",
              "      <td>372100.0</td>\n",
              "      <td>537.380005</td>\n",
              "    </tr>\n",
              "    <tr>\n",
              "      <th>2013-03-05</th>\n",
              "      <td>544.109985</td>\n",
              "      <td>540.429993</td>\n",
              "      <td>540.429993</td>\n",
              "      <td>543.960022</td>\n",
              "      <td>455100.0</td>\n",
              "      <td>543.960022</td>\n",
              "    </tr>\n",
              "    <tr>\n",
              "      <th>2013-03-06</th>\n",
              "      <td>547.609985</td>\n",
              "      <td>542.700012</td>\n",
              "      <td>547.570007</td>\n",
              "      <td>544.359985</td>\n",
              "      <td>486300.0</td>\n",
              "      <td>544.359985</td>\n",
              "    </tr>\n",
              "    <tr>\n",
              "      <th>2013-03-07</th>\n",
              "      <td>545.419983</td>\n",
              "      <td>538.289978</td>\n",
              "      <td>545.400024</td>\n",
              "      <td>541.299988</td>\n",
              "      <td>509600.0</td>\n",
              "      <td>541.299988</td>\n",
              "    </tr>\n",
              "    <tr>\n",
              "      <th>2013-03-08</th>\n",
              "      <td>544.010010</td>\n",
              "      <td>539.590027</td>\n",
              "      <td>542.789978</td>\n",
              "      <td>543.099976</td>\n",
              "      <td>490100.0</td>\n",
              "      <td>543.099976</td>\n",
              "    </tr>\n",
              "    <tr>\n",
              "      <th>...</th>\n",
              "      <td>...</td>\n",
              "      <td>...</td>\n",
              "      <td>...</td>\n",
              "      <td>...</td>\n",
              "      <td>...</td>\n",
              "      <td>...</td>\n",
              "    </tr>\n",
              "    <tr>\n",
              "      <th>2021-01-21</th>\n",
              "      <td>984.979980</td>\n",
              "      <td>975.619995</td>\n",
              "      <td>979.820007</td>\n",
              "      <td>981.400024</td>\n",
              "      <td>2000.0</td>\n",
              "      <td>981.400024</td>\n",
              "    </tr>\n",
              "    <tr>\n",
              "      <th>2021-01-22</th>\n",
              "      <td>984.669983</td>\n",
              "      <td>975.049988</td>\n",
              "      <td>982.200012</td>\n",
              "      <td>979.979980</td>\n",
              "      <td>2300.0</td>\n",
              "      <td>979.979980</td>\n",
              "    </tr>\n",
              "    <tr>\n",
              "      <th>2021-01-25</th>\n",
              "      <td>999.640015</td>\n",
              "      <td>981.049988</td>\n",
              "      <td>981.049988</td>\n",
              "      <td>999.299988</td>\n",
              "      <td>1900.0</td>\n",
              "      <td>999.299988</td>\n",
              "    </tr>\n",
              "    <tr>\n",
              "      <th>2021-01-26</th>\n",
              "      <td>1007.520020</td>\n",
              "      <td>989.030029</td>\n",
              "      <td>1000.000000</td>\n",
              "      <td>994.000000</td>\n",
              "      <td>2700.0</td>\n",
              "      <td>994.000000</td>\n",
              "    </tr>\n",
              "    <tr>\n",
              "      <th>2021-01-27</th>\n",
              "      <td>1000.750000</td>\n",
              "      <td>984.369995</td>\n",
              "      <td>996.419983</td>\n",
              "      <td>985.919983</td>\n",
              "      <td>2900.0</td>\n",
              "      <td>985.919983</td>\n",
              "    </tr>\n",
              "  </tbody>\n",
              "</table>\n",
              "<p>1936 rows × 6 columns</p>\n",
              "</div>"
            ],
            "text/plain": [
              "                   High         Low  ...    Volume   Adj Close\n",
              "Date                                 ...                      \n",
              "2013-03-04   539.849976  537.359985  ...  372100.0  537.380005\n",
              "2013-03-05   544.109985  540.429993  ...  455100.0  543.960022\n",
              "2013-03-06   547.609985  542.700012  ...  486300.0  544.359985\n",
              "2013-03-07   545.419983  538.289978  ...  509600.0  541.299988\n",
              "2013-03-08   544.010010  539.590027  ...  490100.0  543.099976\n",
              "...                 ...         ...  ...       ...         ...\n",
              "2021-01-21   984.979980  975.619995  ...    2000.0  981.400024\n",
              "2021-01-22   984.669983  975.049988  ...    2300.0  979.979980\n",
              "2021-01-25   999.640015  981.049988  ...    1900.0  999.299988\n",
              "2021-01-26  1007.520020  989.030029  ...    2700.0  994.000000\n",
              "2021-01-27  1000.750000  984.369995  ...    2900.0  985.919983\n",
              "\n",
              "[1936 rows x 6 columns]"
            ]
          },
          "metadata": {
            "tags": []
          },
          "execution_count": 4
        }
      ]
    },
    {
      "cell_type": "code",
      "metadata": {
        "id": "okgoXqlCjntC"
      },
      "source": [
        "change = df['Close'].values/df['Open'].values"
      ],
      "execution_count": 5,
      "outputs": []
    },
    {
      "cell_type": "code",
      "metadata": {
        "colab": {
          "base_uri": "https://localhost:8080/"
        },
        "id": "Dlkd2NApjtyF",
        "outputId": "8dfa7c77-9272-47a5-d628-343806fd671a"
      },
      "source": [
        "change"
      ],
      "execution_count": 6,
      "outputs": [
        {
          "output_type": "execute_result",
          "data": {
            "text/plain": [
              "array([0.99788306, 1.00653189, 0.9941377 , ..., 1.01860252, 0.994     ,\n",
              "       0.98946227])"
            ]
          },
          "metadata": {
            "tags": []
          },
          "execution_count": 6
        }
      ]
    },
    {
      "cell_type": "code",
      "metadata": {
        "id": "kM62jACyjypO"
      },
      "source": [
        "df['Change'] = change"
      ],
      "execution_count": 7,
      "outputs": []
    },
    {
      "cell_type": "code",
      "metadata": {
        "colab": {
          "base_uri": "https://localhost:8080/",
          "height": 450
        },
        "id": "nhqsQmrikuyU",
        "outputId": "b394c379-03c0-4fab-ff57-a5a37c87ff1f"
      },
      "source": [
        "df"
      ],
      "execution_count": 8,
      "outputs": [
        {
          "output_type": "execute_result",
          "data": {
            "text/html": [
              "<div>\n",
              "<style scoped>\n",
              "    .dataframe tbody tr th:only-of-type {\n",
              "        vertical-align: middle;\n",
              "    }\n",
              "\n",
              "    .dataframe tbody tr th {\n",
              "        vertical-align: top;\n",
              "    }\n",
              "\n",
              "    .dataframe thead th {\n",
              "        text-align: right;\n",
              "    }\n",
              "</style>\n",
              "<table border=\"1\" class=\"dataframe\">\n",
              "  <thead>\n",
              "    <tr style=\"text-align: right;\">\n",
              "      <th></th>\n",
              "      <th>High</th>\n",
              "      <th>Low</th>\n",
              "      <th>Open</th>\n",
              "      <th>Close</th>\n",
              "      <th>Volume</th>\n",
              "      <th>Adj Close</th>\n",
              "      <th>Change</th>\n",
              "    </tr>\n",
              "    <tr>\n",
              "      <th>Date</th>\n",
              "      <th></th>\n",
              "      <th></th>\n",
              "      <th></th>\n",
              "      <th></th>\n",
              "      <th></th>\n",
              "      <th></th>\n",
              "      <th></th>\n",
              "    </tr>\n",
              "  </thead>\n",
              "  <tbody>\n",
              "    <tr>\n",
              "      <th>2013-03-04</th>\n",
              "      <td>539.849976</td>\n",
              "      <td>537.359985</td>\n",
              "      <td>538.520020</td>\n",
              "      <td>537.380005</td>\n",
              "      <td>372100.0</td>\n",
              "      <td>537.380005</td>\n",
              "      <td>0.997883</td>\n",
              "    </tr>\n",
              "    <tr>\n",
              "      <th>2013-03-05</th>\n",
              "      <td>544.109985</td>\n",
              "      <td>540.429993</td>\n",
              "      <td>540.429993</td>\n",
              "      <td>543.960022</td>\n",
              "      <td>455100.0</td>\n",
              "      <td>543.960022</td>\n",
              "      <td>1.006532</td>\n",
              "    </tr>\n",
              "    <tr>\n",
              "      <th>2013-03-06</th>\n",
              "      <td>547.609985</td>\n",
              "      <td>542.700012</td>\n",
              "      <td>547.570007</td>\n",
              "      <td>544.359985</td>\n",
              "      <td>486300.0</td>\n",
              "      <td>544.359985</td>\n",
              "      <td>0.994138</td>\n",
              "    </tr>\n",
              "    <tr>\n",
              "      <th>2013-03-07</th>\n",
              "      <td>545.419983</td>\n",
              "      <td>538.289978</td>\n",
              "      <td>545.400024</td>\n",
              "      <td>541.299988</td>\n",
              "      <td>509600.0</td>\n",
              "      <td>541.299988</td>\n",
              "      <td>0.992483</td>\n",
              "    </tr>\n",
              "    <tr>\n",
              "      <th>2013-03-08</th>\n",
              "      <td>544.010010</td>\n",
              "      <td>539.590027</td>\n",
              "      <td>542.789978</td>\n",
              "      <td>543.099976</td>\n",
              "      <td>490100.0</td>\n",
              "      <td>543.099976</td>\n",
              "      <td>1.000571</td>\n",
              "    </tr>\n",
              "    <tr>\n",
              "      <th>...</th>\n",
              "      <td>...</td>\n",
              "      <td>...</td>\n",
              "      <td>...</td>\n",
              "      <td>...</td>\n",
              "      <td>...</td>\n",
              "      <td>...</td>\n",
              "      <td>...</td>\n",
              "    </tr>\n",
              "    <tr>\n",
              "      <th>2021-01-21</th>\n",
              "      <td>984.979980</td>\n",
              "      <td>975.619995</td>\n",
              "      <td>979.820007</td>\n",
              "      <td>981.400024</td>\n",
              "      <td>2000.0</td>\n",
              "      <td>981.400024</td>\n",
              "      <td>1.001613</td>\n",
              "    </tr>\n",
              "    <tr>\n",
              "      <th>2021-01-22</th>\n",
              "      <td>984.669983</td>\n",
              "      <td>975.049988</td>\n",
              "      <td>982.200012</td>\n",
              "      <td>979.979980</td>\n",
              "      <td>2300.0</td>\n",
              "      <td>979.979980</td>\n",
              "      <td>0.997740</td>\n",
              "    </tr>\n",
              "    <tr>\n",
              "      <th>2021-01-25</th>\n",
              "      <td>999.640015</td>\n",
              "      <td>981.049988</td>\n",
              "      <td>981.049988</td>\n",
              "      <td>999.299988</td>\n",
              "      <td>1900.0</td>\n",
              "      <td>999.299988</td>\n",
              "      <td>1.018603</td>\n",
              "    </tr>\n",
              "    <tr>\n",
              "      <th>2021-01-26</th>\n",
              "      <td>1007.520020</td>\n",
              "      <td>989.030029</td>\n",
              "      <td>1000.000000</td>\n",
              "      <td>994.000000</td>\n",
              "      <td>2700.0</td>\n",
              "      <td>994.000000</td>\n",
              "      <td>0.994000</td>\n",
              "    </tr>\n",
              "    <tr>\n",
              "      <th>2021-01-27</th>\n",
              "      <td>1000.750000</td>\n",
              "      <td>984.369995</td>\n",
              "      <td>996.419983</td>\n",
              "      <td>985.919983</td>\n",
              "      <td>2900.0</td>\n",
              "      <td>985.919983</td>\n",
              "      <td>0.989462</td>\n",
              "    </tr>\n",
              "  </tbody>\n",
              "</table>\n",
              "<p>1936 rows × 7 columns</p>\n",
              "</div>"
            ],
            "text/plain": [
              "                   High         Low  ...   Adj Close    Change\n",
              "Date                                 ...                      \n",
              "2013-03-04   539.849976  537.359985  ...  537.380005  0.997883\n",
              "2013-03-05   544.109985  540.429993  ...  543.960022  1.006532\n",
              "2013-03-06   547.609985  542.700012  ...  544.359985  0.994138\n",
              "2013-03-07   545.419983  538.289978  ...  541.299988  0.992483\n",
              "2013-03-08   544.010010  539.590027  ...  543.099976  1.000571\n",
              "...                 ...         ...  ...         ...       ...\n",
              "2021-01-21   984.979980  975.619995  ...  981.400024  1.001613\n",
              "2021-01-22   984.669983  975.049988  ...  979.979980  0.997740\n",
              "2021-01-25   999.640015  981.049988  ...  999.299988  1.018603\n",
              "2021-01-26  1007.520020  989.030029  ...  994.000000  0.994000\n",
              "2021-01-27  1000.750000  984.369995  ...  985.919983  0.989462\n",
              "\n",
              "[1936 rows x 7 columns]"
            ]
          },
          "metadata": {
            "tags": []
          },
          "execution_count": 8
        }
      ]
    },
    {
      "cell_type": "code",
      "metadata": {
        "colab": {
          "base_uri": "https://localhost:8080/",
          "height": 450
        },
        "id": "KKXWEcM7mNwy",
        "outputId": "1ed5e5fe-5499-4c4e-8aac-4dff10f63db7"
      },
      "source": [
        "first = df[df['Change'] < 0.975]\n",
        "first"
      ],
      "execution_count": 9,
      "outputs": [
        {
          "output_type": "execute_result",
          "data": {
            "text/html": [
              "<div>\n",
              "<style scoped>\n",
              "    .dataframe tbody tr th:only-of-type {\n",
              "        vertical-align: middle;\n",
              "    }\n",
              "\n",
              "    .dataframe tbody tr th {\n",
              "        vertical-align: top;\n",
              "    }\n",
              "\n",
              "    .dataframe thead th {\n",
              "        text-align: right;\n",
              "    }\n",
              "</style>\n",
              "<table border=\"1\" class=\"dataframe\">\n",
              "  <thead>\n",
              "    <tr style=\"text-align: right;\">\n",
              "      <th></th>\n",
              "      <th>High</th>\n",
              "      <th>Low</th>\n",
              "      <th>Open</th>\n",
              "      <th>Close</th>\n",
              "      <th>Volume</th>\n",
              "      <th>Adj Close</th>\n",
              "      <th>Change</th>\n",
              "    </tr>\n",
              "    <tr>\n",
              "      <th>Date</th>\n",
              "      <th></th>\n",
              "      <th></th>\n",
              "      <th></th>\n",
              "      <th></th>\n",
              "      <th></th>\n",
              "      <th></th>\n",
              "      <th></th>\n",
              "    </tr>\n",
              "  </thead>\n",
              "  <tbody>\n",
              "    <tr>\n",
              "      <th>2013-04-08</th>\n",
              "      <td>548.090027</td>\n",
              "      <td>528.780029</td>\n",
              "      <td>547.179993</td>\n",
              "      <td>528.780029</td>\n",
              "      <td>459600.0</td>\n",
              "      <td>528.780029</td>\n",
              "      <td>0.966373</td>\n",
              "    </tr>\n",
              "    <tr>\n",
              "      <th>2013-06-07</th>\n",
              "      <td>551.570007</td>\n",
              "      <td>531.030029</td>\n",
              "      <td>550.340027</td>\n",
              "      <td>535.750000</td>\n",
              "      <td>446000.0</td>\n",
              "      <td>535.750000</td>\n",
              "      <td>0.973489</td>\n",
              "    </tr>\n",
              "    <tr>\n",
              "      <th>2013-06-24</th>\n",
              "      <td>523.590027</td>\n",
              "      <td>508.649994</td>\n",
              "      <td>523.500000</td>\n",
              "      <td>508.649994</td>\n",
              "      <td>379900.0</td>\n",
              "      <td>508.649994</td>\n",
              "      <td>0.971633</td>\n",
              "    </tr>\n",
              "    <tr>\n",
              "      <th>2013-06-25</th>\n",
              "      <td>508.760010</td>\n",
              "      <td>478.679993</td>\n",
              "      <td>505.279999</td>\n",
              "      <td>480.959991</td>\n",
              "      <td>539000.0</td>\n",
              "      <td>480.959991</td>\n",
              "      <td>0.951868</td>\n",
              "    </tr>\n",
              "    <tr>\n",
              "      <th>2013-11-11</th>\n",
              "      <td>517.919983</td>\n",
              "      <td>502.440002</td>\n",
              "      <td>517.369995</td>\n",
              "      <td>502.940002</td>\n",
              "      <td>364300.0</td>\n",
              "      <td>502.940002</td>\n",
              "      <td>0.972109</td>\n",
              "    </tr>\n",
              "    <tr>\n",
              "      <th>...</th>\n",
              "      <td>...</td>\n",
              "      <td>...</td>\n",
              "      <td>...</td>\n",
              "      <td>...</td>\n",
              "      <td>...</td>\n",
              "      <td>...</td>\n",
              "      <td>...</td>\n",
              "    </tr>\n",
              "    <tr>\n",
              "      <th>2020-09-21</th>\n",
              "      <td>892.340027</td>\n",
              "      <td>859.400024</td>\n",
              "      <td>889.940002</td>\n",
              "      <td>866.989990</td>\n",
              "      <td>2000.0</td>\n",
              "      <td>866.989990</td>\n",
              "      <td>0.974212</td>\n",
              "    </tr>\n",
              "    <tr>\n",
              "      <th>2020-09-22</th>\n",
              "      <td>867.890015</td>\n",
              "      <td>838.130005</td>\n",
              "      <td>867.719971</td>\n",
              "      <td>842.719971</td>\n",
              "      <td>2000.0</td>\n",
              "      <td>842.719971</td>\n",
              "      <td>0.971189</td>\n",
              "    </tr>\n",
              "    <tr>\n",
              "      <th>2020-10-26</th>\n",
              "      <td>808.059998</td>\n",
              "      <td>776.700012</td>\n",
              "      <td>808.059998</td>\n",
              "      <td>778.020020</td>\n",
              "      <td>1600.0</td>\n",
              "      <td>778.020020</td>\n",
              "      <td>0.962825</td>\n",
              "    </tr>\n",
              "    <tr>\n",
              "      <th>2020-10-30</th>\n",
              "      <td>814.590027</td>\n",
              "      <td>791.299988</td>\n",
              "      <td>814.159973</td>\n",
              "      <td>792.650024</td>\n",
              "      <td>1900.0</td>\n",
              "      <td>792.650024</td>\n",
              "      <td>0.973580</td>\n",
              "    </tr>\n",
              "    <tr>\n",
              "      <th>2020-12-22</th>\n",
              "      <td>953.479980</td>\n",
              "      <td>928.510010</td>\n",
              "      <td>953.479980</td>\n",
              "      <td>928.729980</td>\n",
              "      <td>1900.0</td>\n",
              "      <td>928.729980</td>\n",
              "      <td>0.974042</td>\n",
              "    </tr>\n",
              "  </tbody>\n",
              "</table>\n",
              "<p>61 rows × 7 columns</p>\n",
              "</div>"
            ],
            "text/plain": [
              "                  High         Low        Open  ...    Volume   Adj Close    Change\n",
              "Date                                            ...                                \n",
              "2013-04-08  548.090027  528.780029  547.179993  ...  459600.0  528.780029  0.966373\n",
              "2013-06-07  551.570007  531.030029  550.340027  ...  446000.0  535.750000  0.973489\n",
              "2013-06-24  523.590027  508.649994  523.500000  ...  379900.0  508.649994  0.971633\n",
              "2013-06-25  508.760010  478.679993  505.279999  ...  539000.0  480.959991  0.951868\n",
              "2013-11-11  517.919983  502.440002  517.369995  ...  364300.0  502.940002  0.972109\n",
              "...                ...         ...         ...  ...       ...         ...       ...\n",
              "2020-09-21  892.340027  859.400024  889.940002  ...    2000.0  866.989990  0.974212\n",
              "2020-09-22  867.890015  838.130005  867.719971  ...    2000.0  842.719971  0.971189\n",
              "2020-10-26  808.059998  776.700012  808.059998  ...    1600.0  778.020020  0.962825\n",
              "2020-10-30  814.590027  791.299988  814.159973  ...    1900.0  792.650024  0.973580\n",
              "2020-12-22  953.479980  928.510010  953.479980  ...    1900.0  928.729980  0.974042\n",
              "\n",
              "[61 rows x 7 columns]"
            ]
          },
          "metadata": {
            "tags": []
          },
          "execution_count": 9
        }
      ]
    },
    {
      "cell_type": "code",
      "metadata": {
        "colab": {
          "base_uri": "https://localhost:8080/",
          "height": 450
        },
        "id": "XCJKj3NZmo1_",
        "outputId": "1a1b3323-3e1e-4d2d-fbd9-0c76717e2851"
      },
      "source": [
        "second = df[df['Change'].shift(1) < 0.975]\n",
        "second"
      ],
      "execution_count": 10,
      "outputs": [
        {
          "output_type": "execute_result",
          "data": {
            "text/html": [
              "<div>\n",
              "<style scoped>\n",
              "    .dataframe tbody tr th:only-of-type {\n",
              "        vertical-align: middle;\n",
              "    }\n",
              "\n",
              "    .dataframe tbody tr th {\n",
              "        vertical-align: top;\n",
              "    }\n",
              "\n",
              "    .dataframe thead th {\n",
              "        text-align: right;\n",
              "    }\n",
              "</style>\n",
              "<table border=\"1\" class=\"dataframe\">\n",
              "  <thead>\n",
              "    <tr style=\"text-align: right;\">\n",
              "      <th></th>\n",
              "      <th>High</th>\n",
              "      <th>Low</th>\n",
              "      <th>Open</th>\n",
              "      <th>Close</th>\n",
              "      <th>Volume</th>\n",
              "      <th>Adj Close</th>\n",
              "      <th>Change</th>\n",
              "    </tr>\n",
              "    <tr>\n",
              "      <th>Date</th>\n",
              "      <th></th>\n",
              "      <th></th>\n",
              "      <th></th>\n",
              "      <th></th>\n",
              "      <th></th>\n",
              "      <th></th>\n",
              "      <th></th>\n",
              "    </tr>\n",
              "  </thead>\n",
              "  <tbody>\n",
              "    <tr>\n",
              "      <th>2013-04-09</th>\n",
              "      <td>535.299988</td>\n",
              "      <td>517.099976</td>\n",
              "      <td>526.039978</td>\n",
              "      <td>528.150024</td>\n",
              "      <td>494100.0</td>\n",
              "      <td>528.150024</td>\n",
              "      <td>1.004011</td>\n",
              "    </tr>\n",
              "    <tr>\n",
              "      <th>2013-06-10</th>\n",
              "      <td>547.799988</td>\n",
              "      <td>537.940002</td>\n",
              "      <td>538.489990</td>\n",
              "      <td>547.000000</td>\n",
              "      <td>546100.0</td>\n",
              "      <td>547.000000</td>\n",
              "      <td>1.015803</td>\n",
              "    </tr>\n",
              "    <tr>\n",
              "      <th>2013-06-25</th>\n",
              "      <td>508.760010</td>\n",
              "      <td>478.679993</td>\n",
              "      <td>505.279999</td>\n",
              "      <td>480.959991</td>\n",
              "      <td>539000.0</td>\n",
              "      <td>480.959991</td>\n",
              "      <td>0.951868</td>\n",
              "    </tr>\n",
              "    <tr>\n",
              "      <th>2013-06-26</th>\n",
              "      <td>495.019989</td>\n",
              "      <td>482.359985</td>\n",
              "      <td>490.450012</td>\n",
              "      <td>493.070007</td>\n",
              "      <td>382800.0</td>\n",
              "      <td>493.070007</td>\n",
              "      <td>1.005342</td>\n",
              "    </tr>\n",
              "    <tr>\n",
              "      <th>2013-11-12</th>\n",
              "      <td>510.730011</td>\n",
              "      <td>504.130005</td>\n",
              "      <td>504.130005</td>\n",
              "      <td>510.730011</td>\n",
              "      <td>288500.0</td>\n",
              "      <td>510.730011</td>\n",
              "      <td>1.013092</td>\n",
              "    </tr>\n",
              "    <tr>\n",
              "      <th>...</th>\n",
              "      <td>...</td>\n",
              "      <td>...</td>\n",
              "      <td>...</td>\n",
              "      <td>...</td>\n",
              "      <td>...</td>\n",
              "      <td>...</td>\n",
              "      <td>...</td>\n",
              "    </tr>\n",
              "    <tr>\n",
              "      <th>2020-09-22</th>\n",
              "      <td>867.890015</td>\n",
              "      <td>838.130005</td>\n",
              "      <td>867.719971</td>\n",
              "      <td>842.719971</td>\n",
              "      <td>2000.0</td>\n",
              "      <td>842.719971</td>\n",
              "      <td>0.971189</td>\n",
              "    </tr>\n",
              "    <tr>\n",
              "      <th>2020-09-23</th>\n",
              "      <td>856.140015</td>\n",
              "      <td>821.890015</td>\n",
              "      <td>855.570007</td>\n",
              "      <td>843.450012</td>\n",
              "      <td>2200.0</td>\n",
              "      <td>843.450012</td>\n",
              "      <td>0.985834</td>\n",
              "    </tr>\n",
              "    <tr>\n",
              "      <th>2020-10-27</th>\n",
              "      <td>794.039978</td>\n",
              "      <td>766.960022</td>\n",
              "      <td>771.840027</td>\n",
              "      <td>783.729980</td>\n",
              "      <td>2100.0</td>\n",
              "      <td>783.729980</td>\n",
              "      <td>1.015405</td>\n",
              "    </tr>\n",
              "    <tr>\n",
              "      <th>2020-11-02</th>\n",
              "      <td>805.919983</td>\n",
              "      <td>789.849976</td>\n",
              "      <td>796.460022</td>\n",
              "      <td>802.950012</td>\n",
              "      <td>1500.0</td>\n",
              "      <td>802.950012</td>\n",
              "      <td>1.008149</td>\n",
              "    </tr>\n",
              "    <tr>\n",
              "      <th>2020-12-23</th>\n",
              "      <td>938.909973</td>\n",
              "      <td>918.440002</td>\n",
              "      <td>932.250000</td>\n",
              "      <td>923.169983</td>\n",
              "      <td>1900.0</td>\n",
              "      <td>923.169983</td>\n",
              "      <td>0.990260</td>\n",
              "    </tr>\n",
              "  </tbody>\n",
              "</table>\n",
              "<p>61 rows × 7 columns</p>\n",
              "</div>"
            ],
            "text/plain": [
              "                  High         Low        Open  ...    Volume   Adj Close    Change\n",
              "Date                                            ...                                \n",
              "2013-04-09  535.299988  517.099976  526.039978  ...  494100.0  528.150024  1.004011\n",
              "2013-06-10  547.799988  537.940002  538.489990  ...  546100.0  547.000000  1.015803\n",
              "2013-06-25  508.760010  478.679993  505.279999  ...  539000.0  480.959991  0.951868\n",
              "2013-06-26  495.019989  482.359985  490.450012  ...  382800.0  493.070007  1.005342\n",
              "2013-11-12  510.730011  504.130005  504.130005  ...  288500.0  510.730011  1.013092\n",
              "...                ...         ...         ...  ...       ...         ...       ...\n",
              "2020-09-22  867.890015  838.130005  867.719971  ...    2000.0  842.719971  0.971189\n",
              "2020-09-23  856.140015  821.890015  855.570007  ...    2200.0  843.450012  0.985834\n",
              "2020-10-27  794.039978  766.960022  771.840027  ...    2100.0  783.729980  1.015405\n",
              "2020-11-02  805.919983  789.849976  796.460022  ...    1500.0  802.950012  1.008149\n",
              "2020-12-23  938.909973  918.440002  932.250000  ...    1900.0  923.169983  0.990260\n",
              "\n",
              "[61 rows x 7 columns]"
            ]
          },
          "metadata": {
            "tags": []
          },
          "execution_count": 10
        }
      ]
    },
    {
      "cell_type": "code",
      "metadata": {
        "colab": {
          "base_uri": "https://localhost:8080/"
        },
        "id": "2ReUsPWdolF-",
        "outputId": "f0af2f09-0213-4d04-f827-2ad78774b18c"
      },
      "source": [
        "total = len(first)\n",
        "total"
      ],
      "execution_count": 11,
      "outputs": [
        {
          "output_type": "execute_result",
          "data": {
            "text/plain": [
              "61"
            ]
          },
          "metadata": {
            "tags": []
          },
          "execution_count": 11
        }
      ]
    },
    {
      "cell_type": "code",
      "metadata": {
        "colab": {
          "base_uri": "https://localhost:8080/"
        },
        "id": "VIJcT8E5nt_A",
        "outputId": "9f4c9bef-49a7-4452-b499-8639666d1b86"
      },
      "source": [
        "valid = sum(second['Change'].values <= first['Change'].values)\n",
        "valid"
      ],
      "execution_count": 12,
      "outputs": [
        {
          "output_type": "execute_result",
          "data": {
            "text/plain": [
              "9"
            ]
          },
          "metadata": {
            "tags": []
          },
          "execution_count": 12
        }
      ]
    },
    {
      "cell_type": "code",
      "metadata": {
        "colab": {
          "base_uri": "https://localhost:8080/"
        },
        "id": "pm6hhxfpoN4_",
        "outputId": "a81af41a-d27f-4698-c8db-205cb36a84a4"
      },
      "source": [
        "valid / total"
      ],
      "execution_count": 13,
      "outputs": [
        {
          "output_type": "execute_result",
          "data": {
            "text/plain": [
              "0.14754098360655737"
            ]
          },
          "metadata": {
            "tags": []
          },
          "execution_count": 13
        }
      ]
    },
    {
      "cell_type": "code",
      "metadata": {
        "id": "usoNs8Bbpkmc"
      },
      "source": [
        ""
      ],
      "execution_count": 13,
      "outputs": []
    }
  ]
}